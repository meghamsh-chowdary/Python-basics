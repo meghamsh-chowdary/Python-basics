{
 "cells": [
  {
   "cell_type": "markdown",
   "id": "c2f45e08",
   "metadata": {},
   "source": [
    "# Assiginment_5"
   ]
  },
  {
   "cell_type": "markdown",
   "id": "222f60f8",
   "metadata": {},
   "source": [
    "#### 1. What does an empty dictionary's code look like?"
   ]
  },
  {
   "cell_type": "markdown",
   "id": "5330f4f8",
   "metadata": {},
   "source": [
    "`a empty dictionary looks with two curly brackets {}`"
   ]
  },
  {
   "cell_type": "code",
   "execution_count": 52,
   "id": "0fc3526a",
   "metadata": {},
   "outputs": [
    {
     "name": "stdout",
     "output_type": "stream",
     "text": [
      "<class 'dict'>\n"
     ]
    }
   ],
   "source": [
    "d={}\n",
    "print(type(d))"
   ]
  },
  {
   "cell_type": "markdown",
   "id": "3a1823ef",
   "metadata": {},
   "source": [
    "#### 2. What is the value of a dictionary value with the key 'foo' and the value 42?"
   ]
  },
  {
   "cell_type": "code",
   "execution_count": 54,
   "id": "f16ec876",
   "metadata": {},
   "outputs": [
    {
     "data": {
      "text/plain": [
       "{'f00': 42}"
      ]
     },
     "execution_count": 54,
     "metadata": {},
     "output_type": "execute_result"
    }
   ],
   "source": [
    "d={'f00':42}\n",
    "d"
   ]
  },
  {
   "cell_type": "markdown",
   "id": "de06cc74",
   "metadata": {},
   "source": [
    "#### 3. What is the most significant distinction between a dictionary and a list?"
   ]
  },
  {
   "cell_type": "markdown",
   "id": "4090736b",
   "metadata": {},
   "source": [
    "`the items in list are ordered and the items in dictionary are unordered`"
   ]
  },
  {
   "cell_type": "markdown",
   "id": "5422abc0",
   "metadata": {},
   "source": [
    "#### 4. What happens if you try to access spam['foo'] if spam is {'bar': 100}?"
   ]
  },
  {
   "cell_type": "code",
   "execution_count": 59,
   "id": "ae3f2a5b",
   "metadata": {},
   "outputs": [
    {
     "ename": "KeyError",
     "evalue": "'foo'",
     "output_type": "error",
     "traceback": [
      "\u001b[1;31m---------------------------------------------------------------------------\u001b[0m",
      "\u001b[1;31mKeyError\u001b[0m                                  Traceback (most recent call last)",
      "\u001b[1;32m<ipython-input-59-b96f777f3e8a>\u001b[0m in \u001b[0;36m<module>\u001b[1;34m\u001b[0m\n\u001b[0;32m      1\u001b[0m \u001b[0mspam\u001b[0m\u001b[1;33m=\u001b[0m\u001b[1;33m{\u001b[0m\u001b[1;34m\"bar\"\u001b[0m\u001b[1;33m:\u001b[0m \u001b[1;36m100\u001b[0m\u001b[1;33m}\u001b[0m\u001b[1;33m\u001b[0m\u001b[1;33m\u001b[0m\u001b[0m\n\u001b[1;32m----> 2\u001b[1;33m \u001b[0mspam\u001b[0m\u001b[1;33m[\u001b[0m\u001b[1;34m\"foo\"\u001b[0m\u001b[1;33m]\u001b[0m\u001b[1;33m\u001b[0m\u001b[1;33m\u001b[0m\u001b[0m\n\u001b[0m",
      "\u001b[1;31mKeyError\u001b[0m: 'foo'"
     ]
    }
   ],
   "source": [
    "spam={\"bar\": 100}\n",
    "spam[\"foo\"]"
   ]
  },
  {
   "cell_type": "markdown",
   "id": "4181bcd1",
   "metadata": {},
   "source": [
    "` This araised a keyword error`"
   ]
  },
  {
   "cell_type": "markdown",
   "id": "feeb533c",
   "metadata": {},
   "source": [
    "#### 5. If a dictionary is stored in spam, what is the difference between the expressions &#39;cat&#39; in spam and 'cat' in spam.keys()?"
   ]
  },
  {
   "cell_type": "markdown",
   "id": "753e074a",
   "metadata": {},
   "source": [
    "`there is no difference between two statements the 'cat' in spam checks weather there is any key named cat in dictionary and 'cat' in spam.keys() check weather there is ny key named cat in dictionary`"
   ]
  },
  {
   "cell_type": "code",
   "execution_count": 61,
   "id": "a632873e",
   "metadata": {},
   "outputs": [
    {
     "name": "stdout",
     "output_type": "stream",
     "text": [
      "True\n",
      "True\n"
     ]
    }
   ],
   "source": [
    "spam={'cat':1,'dog':2,'cow':3}\n",
    "print('cat' in spam)\n",
    "print('cat' in spam.keys())"
   ]
  },
  {
   "cell_type": "markdown",
   "id": "bd4c5d2f",
   "metadata": {},
   "source": [
    "#### 6. If a dictionary is stored in spam, what is the difference between the expressions 'cat' in spam and 'cat' in spam.values()?"
   ]
  },
  {
   "cell_type": "markdown",
   "id": "cb16f092",
   "metadata": {},
   "source": [
    "`'cat' in spam checks whether there is a 'cat' key in the dictionary, while 'cat' in spam.values() checks whether there is a value 'cat' for one of the keys in spam.`"
   ]
  },
  {
   "cell_type": "code",
   "execution_count": 62,
   "id": "3973ba18",
   "metadata": {},
   "outputs": [
    {
     "name": "stdout",
     "output_type": "stream",
     "text": [
      "True\n",
      "False\n"
     ]
    }
   ],
   "source": [
    "spam={'cat':1,'dog':2,'cow':3}\n",
    "print('cat' in spam)\n",
    "print('cat' in spam.values())"
   ]
  },
  {
   "cell_type": "markdown",
   "id": "b659dd3e",
   "metadata": {},
   "source": [
    "#### 7. What is a shortcut for the following code?\n",
    "#### if 'color' not in spam:\n",
    "####        spam['color'] = 'black'"
   ]
  },
  {
   "cell_type": "code",
   "execution_count": 66,
   "id": "77dd149c",
   "metadata": {},
   "outputs": [
    {
     "data": {
      "text/plain": [
       "{'cat': 1, 'dog': 2, 'cow': 3, 'color': 'black'}"
      ]
     },
     "execution_count": 66,
     "metadata": {},
     "output_type": "execute_result"
    }
   ],
   "source": [
    "span={\"dish\":\"pizza\",\"fruit\":\"mango\"}\n",
    "spam.setdefault('color', 'black')\n",
    "spam"
   ]
  },
  {
   "cell_type": "markdown",
   "id": "790ef93f",
   "metadata": {},
   "source": [
    "#### 8. How do you \"pretty print\" dictionary values using which module and function?"
   ]
  },
  {
   "cell_type": "markdown",
   "id": "299b33f7",
   "metadata": {},
   "source": [
    "`we can use pprint module and pprint feature in it to pretty print the dictoinary values`"
   ]
  },
  {
   "cell_type": "code",
   "execution_count": 70,
   "id": "a883ae16",
   "metadata": {},
   "outputs": [
    {
     "name": "stdout",
     "output_type": "stream",
     "text": [
      "{'hello': 2,\n",
      " 'hi': 1,\n",
      " 'how are you': {'fine': 'ok'},\n",
      " 'time': [12, 35],\n",
      " 'what are you doing': 'nothing'}\n"
     ]
    }
   ],
   "source": [
    "from pprint import pprint\n",
    "data={\"hi\":1,\"hello\":2,\"how are you\":{\"fine\":\"ok\"},\"time\":[12,35],\"what are you doing\":\"nothing\"}\n",
    "pprint(data)"
   ]
  }
 ],
 "metadata": {
  "kernelspec": {
   "display_name": "Python 3",
   "language": "python",
   "name": "python3"
  },
  "language_info": {
   "codemirror_mode": {
    "name": "ipython",
    "version": 3
   },
   "file_extension": ".py",
   "mimetype": "text/x-python",
   "name": "python",
   "nbconvert_exporter": "python",
   "pygments_lexer": "ipython3",
   "version": "3.8.8"
  }
 },
 "nbformat": 4,
 "nbformat_minor": 5
}
