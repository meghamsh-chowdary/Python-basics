{
 "cells": [
  {
   "cell_type": "markdown",
   "id": "224177d7",
   "metadata": {},
   "source": [
    "## Assignment 3"
   ]
  },
  {
   "cell_type": "markdown",
   "id": "52950428",
   "metadata": {},
   "source": [
    "### 1. Why are functions advantageous to have in your programs?"
   ]
  },
  {
   "cell_type": "markdown",
   "id": "d7a35bde",
   "metadata": {},
   "source": [
    "###### The functions are advantageous because \n",
    "###### 1.reduces the writing of simillar code again and again\n",
    "###### 2.increases the reusability of code\n",
    "###### 3.increases the modularity of a code\n",
    "###### 4.also increases the redability of the code"
   ]
  },
  {
   "cell_type": "markdown",
   "id": "f3112132",
   "metadata": {},
   "source": [
    "### 2. When does the code in a function run: when it's specified or when it's called?"
   ]
  },
  {
   "cell_type": "markdown",
   "id": "79ea0378",
   "metadata": {},
   "source": [
    "###### The code in the function runs only when it is called."
   ]
  },
  {
   "cell_type": "markdown",
   "id": "e83086f6",
   "metadata": {},
   "source": [
    "### 3. What statement creates a function?"
   ]
  },
  {
   "cell_type": "markdown",
   "id": "bd754640",
   "metadata": {},
   "source": [
    "###### a statement with `def` keyword followed by function_name and then followed by list of arguments (if required) and atlast with a colon creates a function"
   ]
  },
  {
   "cell_type": "markdown",
   "id": "4fb01a17",
   "metadata": {},
   "source": [
    "### 4. What is the difference between a function and a function call?"
   ]
  },
  {
   "cell_type": "markdown",
   "id": "326138ac",
   "metadata": {},
   "source": [
    "###### the main difference between function and function call is; function is a block of code which consists of set of statements which can be called again and again where as function call is a statement which is uses to call the specified function and invokes the set of statements in it"
   ]
  },
  {
   "cell_type": "markdown",
   "id": "e4438d9e",
   "metadata": {},
   "source": [
    "### 5. How many global scopes are there in a Python program? How many local scopes?"
   ]
  },
  {
   "cell_type": "markdown",
   "id": "c09b3265",
   "metadata": {},
   "source": [
    "###### There's only one global Python scope per program execution. This scope remains in existence until the program terminates and all its names are forgotten. and the local scopes depend on the number of functions or block of codes present in the entire prorgram"
   ]
  },
  {
   "cell_type": "markdown",
   "id": "0db4eb3a",
   "metadata": {},
   "source": [
    "### 6. What happens to variables in a local scope when the function call returns?"
   ]
  },
  {
   "cell_type": "markdown",
   "id": "c1f3bd33",
   "metadata": {},
   "source": [
    "###### the value of the local variable and its memory allocated will be truncated when the function call returns to that main body"
   ]
  },
  {
   "cell_type": "markdown",
   "id": "b9d2c1fd",
   "metadata": {},
   "source": [
    "### 7. What is the concept of a return value? Is it possible to have a return value in an expression?"
   ]
  },
  {
   "cell_type": "markdown",
   "id": "5225ec28",
   "metadata": {},
   "source": [
    "###### A return is a value that a function returns to the calling script or function when it completes its task.and in my view we cannot use return "
   ]
  },
  {
   "cell_type": "markdown",
   "id": "14532091",
   "metadata": {},
   "source": [
    "### 8.If a function does not have a return statement, what is the return value of a call to that function?"
   ]
  },
  {
   "cell_type": "markdown",
   "id": "8b7eab22",
   "metadata": {},
   "source": [
    "###### if a function doesn't have any return statement Unless the function is declared as void, it is undefined = not valid. And undefined means “anything can happen”. Most compilers return the value in some particular register, and if you “fall out without returning anything”, then whatever happens to be in that register will be the return-value - it may the result of an earlier calculation, a previously returned value."
   ]
  },
  {
   "cell_type": "markdown",
   "id": "cd9fc836",
   "metadata": {},
   "source": [
    "### 9.How do you make a function variable refer to the global variable?"
   ]
  },
  {
   "cell_type": "markdown",
   "id": "5aba2db1",
   "metadata": {},
   "source": [
    "###### If you want to refer to a global variable in a function, you can use the global keyword to declare which variables are global."
   ]
  },
  {
   "cell_type": "code",
   "execution_count": 8,
   "id": "142a2152",
   "metadata": {},
   "outputs": [
    {
     "name": "stdout",
     "output_type": "stream",
     "text": [
      "30\n"
     ]
    }
   ],
   "source": [
    "a=20#global declaration\n",
    "def hi(b):\n",
    "    global a#making function variable refer to global variable\n",
    "    return a+b\n",
    "print(hi(10))"
   ]
  },
  {
   "cell_type": "markdown",
   "id": "a4c5c057",
   "metadata": {},
   "source": [
    "### 10. What is the data type of None?"
   ]
  },
  {
   "cell_type": "markdown",
   "id": "2b6927f8",
   "metadata": {},
   "source": [
    "###### The None keyword is used to define a null value, or no value at all. None is not the same as 0, False, or an empty string. None is a data type of its own (NoneType) and only None can be None."
   ]
  },
  {
   "cell_type": "markdown",
   "id": "f3002f37",
   "metadata": {},
   "source": [
    "### 11.What does the sentence import areallyourpetsnamederic do?"
   ]
  },
  {
   "cell_type": "markdown",
   "id": "6ac88dc3",
   "metadata": {},
   "source": [
    "###### the statement import areallyourpetsnamederic , imports a module named `areallyourpetsnamederic` to them main program or the prorgram you use the sentence"
   ]
  },
  {
   "cell_type": "markdown",
   "id": "354fe573",
   "metadata": {},
   "source": [
    "### 12. If you had a bacon() feature in a spam module, what would you call it after importing spam?"
   ]
  },
  {
   "cell_type": "markdown",
   "id": "837ebde9",
   "metadata": {},
   "source": [
    "###### If I had a bacon() feature in a spam module, the i would use dot operator to call a specific feature in a module and the syntax is follows `module_name.feature()` in above question i use `spam.bacon()` to call bacon feature"
   ]
  },
  {
   "cell_type": "markdown",
   "id": "3061a0ce",
   "metadata": {},
   "source": [
    "### 13. What can you do to save a programme from crashing if it encounters an error?"
   ]
  },
  {
   "cell_type": "markdown",
   "id": "f81b437d",
   "metadata": {},
   "source": [
    "###### When it encounters an error, the control is passed to the except block, skipping the code in between. As seen in the above code, we have to  moved our code inside a try and except statement, and it should throw an error message instead of crashing the program."
   ]
  },
  {
   "cell_type": "markdown",
   "id": "0c7be5b4",
   "metadata": {},
   "source": [
    "### 14.What is the purpose of the try clause? What is the purpose of the except clause?"
   ]
  },
  {
   "cell_type": "markdown",
   "id": "8a4f1f9e",
   "metadata": {},
   "source": [
    "###### The try block lets you test a block of code for errors. The except block lets you handle the error. The else block lets you execute code when there is no error."
   ]
  }
 ],
 "metadata": {
  "kernelspec": {
   "display_name": "Python 3",
   "language": "python",
   "name": "python3"
  },
  "language_info": {
   "codemirror_mode": {
    "name": "ipython",
    "version": 3
   },
   "file_extension": ".py",
   "mimetype": "text/x-python",
   "name": "python",
   "nbconvert_exporter": "python",
   "pygments_lexer": "ipython3",
   "version": "3.8.8"
  }
 },
 "nbformat": 4,
 "nbformat_minor": 5
}
