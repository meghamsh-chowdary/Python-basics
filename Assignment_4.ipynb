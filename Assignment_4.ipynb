{
 "cells": [
  {
   "cell_type": "markdown",
   "id": "ed8f7058",
   "metadata": {},
   "source": [
    "# Assiginment_4"
   ]
  },
  {
   "cell_type": "markdown",
   "id": "8f7c785d",
   "metadata": {},
   "source": [
    "#### 1. What exactly is []?"
   ]
  },
  {
   "cell_type": "markdown",
   "id": "9044e651",
   "metadata": {},
   "source": [
    "`the [] is a empty list which contains no elements in it`"
   ]
  },
  {
   "cell_type": "markdown",
   "id": "3fdabcef",
   "metadata": {},
   "source": [
    "#### 2. In a list of values stored in a variable called spam, how would you assign the value 'hello' as the third value? (Assume [2, 4, 6, 8, 10] are in spam.)"
   ]
  },
  {
   "cell_type": "code",
   "execution_count": 14,
   "id": "116531eb",
   "metadata": {},
   "outputs": [
    {
     "name": "stdout",
     "output_type": "stream",
     "text": [
      "[2, 4, 'hello', 6, 8, 10]\n"
     ]
    }
   ],
   "source": [
    "spam=[2,4,6,8,10]\n",
    "spam.insert(2,\"hello\")\n",
    "print(spam)"
   ]
  },
  {
   "cell_type": "markdown",
   "id": "e47fc156",
   "metadata": {},
   "source": [
    "#### Let's pretend the spam includes the list ['a','b','c','d'] for the next three queries.\n",
    "#### 3. What is the value of spam[int(int(&#39;3&#39; * 2) / 11)]?"
   ]
  },
  {
   "cell_type": "markdown",
   "id": "b187fc98",
   "metadata": {},
   "source": [
    "`the value of spam[int(int('3'*2)/11] is 'd'`"
   ]
  },
  {
   "cell_type": "code",
   "execution_count": 4,
   "id": "7fa2b593",
   "metadata": {},
   "outputs": [
    {
     "data": {
      "text/plain": [
       "'d'"
      ]
     },
     "execution_count": 4,
     "metadata": {},
     "output_type": "execute_result"
    }
   ],
   "source": [
    "spam=['a','b','c','d']\n",
    "spam[int(int('3'*2)/11)]"
   ]
  },
  {
   "cell_type": "markdown",
   "id": "93ac9edc",
   "metadata": {},
   "source": [
    "#### 4. What is the value of spam[-1]?"
   ]
  },
  {
   "cell_type": "markdown",
   "id": "2cee0af3",
   "metadata": {},
   "source": [
    "`the value of spam[-1] is 'd'`"
   ]
  },
  {
   "cell_type": "code",
   "execution_count": 6,
   "id": "a4cdeb12",
   "metadata": {},
   "outputs": [
    {
     "data": {
      "text/plain": [
       "'d'"
      ]
     },
     "execution_count": 6,
     "metadata": {},
     "output_type": "execute_result"
    }
   ],
   "source": [
    "spam[-1]"
   ]
  },
  {
   "cell_type": "markdown",
   "id": "86c7ff79",
   "metadata": {},
   "source": [
    "#### 5. What is the value of spam[:2]?"
   ]
  },
  {
   "cell_type": "markdown",
   "id": "c8b0010a",
   "metadata": {},
   "source": [
    "`the value of spam[:2] is ['a', 'b']`"
   ]
  },
  {
   "cell_type": "code",
   "execution_count": 8,
   "id": "eee37edf",
   "metadata": {},
   "outputs": [
    {
     "data": {
      "text/plain": [
       "['a', 'b']"
      ]
     },
     "execution_count": 8,
     "metadata": {},
     "output_type": "execute_result"
    }
   ],
   "source": [
    "spam[0:2]"
   ]
  },
  {
   "cell_type": "markdown",
   "id": "eefc39ed",
   "metadata": {},
   "source": [
    "#### Let's pretend bacon has the list [3.14,'cat','11','cat',True] for the next three questions.\n",
    "#### 6. What is the value of bacon.index('cat')?"
   ]
  },
  {
   "cell_type": "markdown",
   "id": "7d8639c5",
   "metadata": {},
   "source": [
    "`the value of bacon.index('cat') is 1`"
   ]
  },
  {
   "cell_type": "code",
   "execution_count": 23,
   "id": "62bf8c62",
   "metadata": {},
   "outputs": [
    {
     "data": {
      "text/plain": [
       "1"
      ]
     },
     "execution_count": 23,
     "metadata": {},
     "output_type": "execute_result"
    }
   ],
   "source": [
    "bacon=[3.14,'cat','11','cat',True]\n",
    "bacon.index('cat')"
   ]
  },
  {
   "cell_type": "markdown",
   "id": "d638ab1a",
   "metadata": {},
   "source": [
    "#### 7. How does bacon.append(99) change the look of the list value in bacon?"
   ]
  },
  {
   "cell_type": "markdown",
   "id": "e9791e38",
   "metadata": {},
   "source": [
    "`the bacon.append(99) change to look list like [3.14,'cat','11','cat',True,99]`"
   ]
  },
  {
   "cell_type": "code",
   "execution_count": 12,
   "id": "1e392272",
   "metadata": {},
   "outputs": [
    {
     "data": {
      "text/plain": [
       "[3.14, 'cat', '11', 'cat', True, 99, 99]"
      ]
     },
     "execution_count": 12,
     "metadata": {},
     "output_type": "execute_result"
    }
   ],
   "source": [
    "bacon.append(99)\n",
    "bacon"
   ]
  },
  {
   "cell_type": "markdown",
   "id": "22338f54",
   "metadata": {},
   "source": [
    "#### 8. How does bacon.remove('cat') change the look of the list in bacon?"
   ]
  },
  {
   "cell_type": "markdown",
   "id": "ca145aaa",
   "metadata": {},
   "source": [
    "`the bacon.remove('cat') looks list lie [3.14,'11','cat',True,99]`"
   ]
  },
  {
   "cell_type": "code",
   "execution_count": 24,
   "id": "10c96d8b",
   "metadata": {},
   "outputs": [
    {
     "data": {
      "text/plain": [
       "[3.14, '11', 'cat', True]"
      ]
     },
     "execution_count": 24,
     "metadata": {},
     "output_type": "execute_result"
    }
   ],
   "source": [
    "bacon.remove('cat')\n",
    "bacon"
   ]
  },
  {
   "cell_type": "markdown",
   "id": "97beb803",
   "metadata": {},
   "source": [
    "#### 9. What are the list concatenation and list replication operators?"
   ]
  },
  {
   "cell_type": "markdown",
   "id": "d4378ca4",
   "metadata": {},
   "source": [
    "`the list concatenation operator is '+' and the list replication operator is '*'`"
   ]
  },
  {
   "cell_type": "markdown",
   "id": "653e5424",
   "metadata": {},
   "source": [
    "#### 10. What is difference between the list methods append() and insert()?"
   ]
  },
  {
   "cell_type": "markdown",
   "id": "0750a7b2",
   "metadata": {},
   "source": [
    "`append() method is used to add the element in the last of the list where as insert() method is used to add the element in the desired position of the list`"
   ]
  },
  {
   "cell_type": "markdown",
   "id": "3ea9e077",
   "metadata": {},
   "source": [
    "#### 11. What are the two methods for removing items from a list?"
   ]
  },
  {
   "cell_type": "markdown",
   "id": "3df9cbe7",
   "metadata": {},
   "source": [
    "   `the two methods to remove the items from the list are \n",
    "    1.pop()\n",
    "    2.remove()\n",
    "    3.del `"
   ]
  },
  {
   "cell_type": "markdown",
   "id": "c27d174a",
   "metadata": {},
   "source": [
    "#### 12. Describe how list values and string values are identical."
   ]
  },
  {
   "cell_type": "markdown",
   "id": "190090ea",
   "metadata": {},
   "source": [
    "`Both lists and strings can be passed to len(), have indexes and slices, be used in for loops, be concatenated or replicated, and be used with the in and not in operators.`"
   ]
  },
  {
   "cell_type": "markdown",
   "id": "2b740f4f",
   "metadata": {},
   "source": [
    "#### 13.What's the difference between tuples and lists?"
   ]
  },
  {
   "cell_type": "markdown",
   "id": "df704cc5",
   "metadata": {},
   "source": [
    "`Both lists and strings can be passed to len(), have indexes and slices, be used in for loops, be concatenated or replicated, and be used with the in and not in operators.`"
   ]
  },
  {
   "cell_type": "markdown",
   "id": "a648995e",
   "metadata": {},
   "source": [
    "#### 14. How do you type a tuple value that only contains the integer 42?"
   ]
  },
  {
   "cell_type": "code",
   "execution_count": 36,
   "id": "121d4235",
   "metadata": {},
   "outputs": [
    {
     "data": {
      "text/plain": [
       "tuple"
      ]
     },
     "execution_count": 36,
     "metadata": {},
     "output_type": "execute_result"
    }
   ],
   "source": [
    "t=(42,)\n",
    "type(t)"
   ]
  },
  {
   "cell_type": "markdown",
   "id": "19fc2225",
   "metadata": {},
   "source": [
    "#### 15. How do you get a list value's tuple form? How do you get a tuple value's list form?"
   ]
  },
  {
   "cell_type": "code",
   "execution_count": 38,
   "id": "6185e81e",
   "metadata": {},
   "outputs": [
    {
     "name": "stdout",
     "output_type": "stream",
     "text": [
      "<class 'tuple'>\n",
      "<class 'list'>\n",
      "<class 'list'>\n",
      "<class 'tuple'>\n"
     ]
    }
   ],
   "source": [
    "t=(1,2,3,4)\n",
    "print(type(t))\n",
    "t=list(t)\n",
    "print(type(t))\n",
    "l=[1,2,3,4]\n",
    "print(type(l))\n",
    "l=tuple(l)\n",
    "print(type(l))"
   ]
  },
  {
   "cell_type": "markdown",
   "id": "1025838f",
   "metadata": {},
   "source": [
    "`by using the tuple() and list() functions, respectively`"
   ]
  },
  {
   "cell_type": "markdown",
   "id": "22d93712",
   "metadata": {},
   "source": [
    "#### 16. Variables that &quot;contain&quot; list values are not necessarily lists themselves. Instead, what do they contain?"
   ]
  },
  {
   "cell_type": "markdown",
   "id": "25c3c3f8",
   "metadata": {},
   "source": [
    "`the variables are actually the reference to any data in the memory as same the variables that contaion list values doesn't actually contain list values the contain the refference to the list values which are present in the primary or secondary memory`"
   ]
  },
  {
   "cell_type": "markdown",
   "id": "836a6fb2",
   "metadata": {},
   "source": [
    "#### 17. How do you distinguish between copy.copy() and copy.deepcopy()?"
   ]
  },
  {
   "cell_type": "markdown",
   "id": "7cfb2684",
   "metadata": {},
   "source": [
    "`The copy.copy() function will do a shallow copy of a list, while the copy.deepcopy() function will do a deep copy of a list. That is, only copy.deepcopy() will duplicate any lists inside the list.`"
   ]
  }
 ],
 "metadata": {
  "kernelspec": {
   "display_name": "Python 3",
   "language": "python",
   "name": "python3"
  },
  "language_info": {
   "codemirror_mode": {
    "name": "ipython",
    "version": 3
   },
   "file_extension": ".py",
   "mimetype": "text/x-python",
   "name": "python",
   "nbconvert_exporter": "python",
   "pygments_lexer": "ipython3",
   "version": "3.8.8"
  }
 },
 "nbformat": 4,
 "nbformat_minor": 5
}
