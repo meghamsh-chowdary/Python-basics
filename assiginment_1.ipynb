{
 "cells": [
  {
   "cell_type": "markdown",
   "id": "e4376581",
   "metadata": {},
   "source": [
    "# Assiginment 1"
   ]
  },
  {
   "cell_type": "markdown",
   "id": "779a3b65",
   "metadata": {},
   "source": [
    "## 1."
   ]
  },
  {
   "cell_type": "markdown",
   "id": "d9af5334",
   "metadata": {},
   "source": [
    "#### In the given elements i.e 'hello',-87.8,-,/,+,6 the values are -87.8 , 'hello' , 6 and the expressions are -, /, and +"
   ]
  },
  {
   "cell_type": "markdown",
   "id": "1cb3e18a",
   "metadata": {},
   "source": [
    "## 2."
   ]
  },
  {
   "cell_type": "markdown",
   "id": "47d24144",
   "metadata": {},
   "source": [
    "#### A variable is a name of the location in the memory of the system where the value is stored. You can chose the name that is to be give for the memory location of the value.where as a string is a value inside the quotes that can be assigned to a variable i.e string variable"
   ]
  },
  {
   "cell_type": "markdown",
   "id": "75d5e6da",
   "metadata": {},
   "source": [
    "##### for example"
   ]
  },
  {
   "cell_type": "code",
   "execution_count": 18,
   "id": "a8dbafcb",
   "metadata": {},
   "outputs": [],
   "source": [
    "a=\"Hello World\""
   ]
  },
  {
   "cell_type": "markdown",
   "id": "886bdf68",
   "metadata": {},
   "source": [
    "#### in the above statement `a` is the variable(string variable) and `\"Hello World\"` is a string"
   ]
  },
  {
   "cell_type": "markdown",
   "id": "b1cf2fcf",
   "metadata": {},
   "source": [
    "## 3."
   ]
  },
  {
   "cell_type": "markdown",
   "id": "00e4079e",
   "metadata": {},
   "source": [
    "#### three different data types are integer datatype`int`,float data type`float` and string datatype`str`"
   ]
  },
  {
   "cell_type": "markdown",
   "id": "24663db0",
   "metadata": {},
   "source": [
    "#### `int` the integer data type stores the whole number ex:-3,5,12372,3875923812631. Zero, positive or negative whole numbers without a fractional part and having unlimited precision are known as integers"
   ]
  },
  {
   "cell_type": "markdown",
   "id": "01f91e65",
   "metadata": {},
   "source": [
    "#### `float` the float data type stores the decimal number ex:-43.2,456.86,54.987.  Float is used to represent real numbers and is written with a decimal point dividing the integer and fractional parts."
   ]
  },
  {
   "cell_type": "markdown",
   "id": "45bdee36",
   "metadata": {},
   "source": [
    "#### `string` A string is a collection of one or more characters put in a single quote, double-quote  ex:-\"Hello world\",\"How are you?\",\"welcome!\"."
   ]
  },
  {
   "cell_type": "markdown",
   "id": "2c7b773b",
   "metadata": {},
   "source": [
    "## 4."
   ]
  },
  {
   "cell_type": "markdown",
   "id": "241f1aa7",
   "metadata": {},
   "source": [
    "#### an “expression” is a combination of values and functions that are combined and interpreted by the compiler to create a new value."
   ]
  },
  {
   "cell_type": "markdown",
   "id": "ae59f6a1",
   "metadata": {},
   "source": [
    "## 5."
   ]
  },
  {
   "cell_type": "markdown",
   "id": "f39bee09",
   "metadata": {},
   "source": [
    "#### Statements are the “commands” or “line of code” that can be executed whereas expressions are not executed by themselves. For eg`6+7` is just an expression But, if we write it as, `a = 6+7`, Then, its a statement, as it can be interpreted and executed by the interpreter/compiler."
   ]
  },
  {
   "cell_type": "markdown",
   "id": "b225c8ab",
   "metadata": {},
   "source": [
    "## 6."
   ]
  },
  {
   "cell_type": "markdown",
   "id": "bf7eec5c",
   "metadata": {},
   "source": [
    "#### After running the following code,"
   ]
  },
  {
   "cell_type": "code",
   "execution_count": null,
   "id": "15faa68c",
   "metadata": {},
   "outputs": [],
   "source": [
    "bacon = 22\n",
    "bacon + 1"
   ]
  },
  {
   "cell_type": "markdown",
   "id": "1c3052ff",
   "metadata": {},
   "source": [
    "#### the bacon value doesn't change and it remains as 22"
   ]
  },
  {
   "cell_type": "markdown",
   "id": "31471ec5",
   "metadata": {},
   "source": [
    "## 7."
   ]
  },
  {
   "cell_type": "markdown",
   "id": "70788049",
   "metadata": {},
   "source": [
    "#### the values of the following two terms be"
   ]
  },
  {
   "cell_type": "code",
   "execution_count": null,
   "id": "1ef4c0a3",
   "metadata": {},
   "outputs": [],
   "source": [
    "'spam' + 'spamspam'\n",
    "'spam'*3"
   ]
  },
  {
   "cell_type": "markdown",
   "id": "3d31b19f",
   "metadata": {},
   "source": [
    "#### the output of above two lines is `\"spamspamspam\"`"
   ]
  },
  {
   "cell_type": "markdown",
   "id": "75cf2db9",
   "metadata": {},
   "source": [
    "## 8."
   ]
  },
  {
   "cell_type": "markdown",
   "id": "0cd22408",
   "metadata": {},
   "source": [
    "#### The `egg` is a valid variable but `100` is not because according to the identifer rules a variable must not start with a digit but can contain a digit in middle of the name. So egg is a valid variable where as 100 is a invalid variable."
   ]
  },
  {
   "cell_type": "markdown",
   "id": "e84a0149",
   "metadata": {},
   "source": [
    "## 9."
   ]
  },
  {
   "cell_type": "markdown",
   "id": "7289d8c6",
   "metadata": {},
   "source": [
    "#### the three functions can be used to get the integer, floating-point number, or string version of a value are :\n",
    "#### `int()`\n",
    "#### `float()`\n",
    "#### `str()`"
   ]
  },
  {
   "cell_type": "markdown",
   "id": "e6ae0c36",
   "metadata": {},
   "source": [
    "## 10."
   ]
  },
  {
   "cell_type": "markdown",
   "id": "a21b0619",
   "metadata": {},
   "source": [
    "#### the expression `'I have eaten'+99+'buritos.'` is invalid because concatination of string with a integer value is invalid in python,so we need yo type cast the integer value to str and excute the expression.\n",
    "#### we can fix it by type casting the integer value as follows:\n",
    "#### `'I have eaten'+str(99)+'buritos.'`"
   ]
  }
 ],
 "metadata": {
  "kernelspec": {
   "display_name": "Python 3",
   "language": "python",
   "name": "python3"
  },
  "language_info": {
   "codemirror_mode": {
    "name": "ipython",
    "version": 3
   },
   "file_extension": ".py",
   "mimetype": "text/x-python",
   "name": "python",
   "nbconvert_exporter": "python",
   "pygments_lexer": "ipython3",
   "version": "3.8.8"
  }
 },
 "nbformat": 4,
 "nbformat_minor": 5
}
