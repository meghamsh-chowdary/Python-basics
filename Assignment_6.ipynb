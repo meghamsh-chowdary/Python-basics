{
 "cells": [
  {
   "cell_type": "markdown",
   "id": "67a1fdcd",
   "metadata": {},
   "source": [
    "# Assiginment_6"
   ]
  },
  {
   "cell_type": "markdown",
   "id": "4aa4436a",
   "metadata": {},
   "source": [
    "#### 1. What are escape characters, and how do you use them?"
   ]
  },
  {
   "cell_type": "markdown",
   "id": "a986622c",
   "metadata": {},
   "source": [
    "`To insert characters that are illegal in a string, use an escape character. An escape character is a backslash \\ followed by the character you want to insert.`"
   ]
  },
  {
   "cell_type": "code",
   "execution_count": 71,
   "id": "0a593464",
   "metadata": {},
   "outputs": [
    {
     "name": "stdout",
     "output_type": "stream",
     "text": [
      "hello\n",
      "\"hello\"\n"
     ]
    }
   ],
   "source": [
    "print(\"hello\")\n",
    "print(\"\\\"hello\\\"\")"
   ]
  },
  {
   "cell_type": "markdown",
   "id": "9000bf32",
   "metadata": {},
   "source": [
    "#### 2. What do the escape characters n and t stand for?"
   ]
  },
  {
   "cell_type": "markdown",
   "id": "bd4612ea",
   "metadata": {},
   "source": [
    "` the escape character \\n stands for new line and \\t stands for tab space`"
   ]
  },
  {
   "cell_type": "markdown",
   "id": "5ec76982",
   "metadata": {},
   "source": [
    "#### 3. What is the way to include backslash characters in a string?"
   ]
  },
  {
   "cell_type": "markdown",
   "id": "7824abaa",
   "metadata": {},
   "source": [
    "`the wat to include back slash character in a string is as follows`"
   ]
  },
  {
   "cell_type": "code",
   "execution_count": 83,
   "id": "1552a88c",
   "metadata": {},
   "outputs": [
    {
     "name": "stdout",
     "output_type": "stream",
     "text": [
      "hello\\hi\n"
     ]
    }
   ],
   "source": [
    "print(\"hello\\\\hi\")"
   ]
  },
  {
   "cell_type": "markdown",
   "id": "acbeaba4",
   "metadata": {},
   "source": [
    "#### 4. The string \"Howl's Moving Castle\" is a correct value. Why isn't the single quote character in the word Howl's not escaped a problem?"
   ]
  },
  {
   "cell_type": "markdown",
   "id": "eef64ffd",
   "metadata": {},
   "source": [
    "`the single quote in howls not escaped a problem because we haven't used any back slash before it `"
   ]
  },
  {
   "cell_type": "code",
   "execution_count": 85,
   "id": "51bdf66e",
   "metadata": {},
   "outputs": [
    {
     "name": "stdout",
     "output_type": "stream",
     "text": [
      "Howl's Moving Castle\n"
     ]
    }
   ],
   "source": [
    "a=\"Howl\\'s Moving Castle\"\n",
    "print(a)"
   ]
  },
  {
   "cell_type": "markdown",
   "id": "6482c6ff",
   "metadata": {},
   "source": [
    "` This araised a keyword error`"
   ]
  },
  {
   "cell_type": "markdown",
   "id": "59aee6bc",
   "metadata": {},
   "source": [
    "#### 5. How do you write a string of newlines if you don&#39;t want to use the n character?"
   ]
  },
  {
   "cell_type": "markdown",
   "id": "f38ff4eb",
   "metadata": {},
   "source": [
    "`we can write multiline string with out using \\n for new line`"
   ]
  },
  {
   "cell_type": "code",
   "execution_count": 88,
   "id": "74162086",
   "metadata": {},
   "outputs": [
    {
     "name": "stdout",
     "output_type": "stream",
     "text": [
      "hello how are you\n",
      "how is your life\n",
      "hope you are doing well\n"
     ]
    }
   ],
   "source": [
    "print(\"\"\"hello how are you\n",
    "how is your life\n",
    "hope you are doing well\"\"\")"
   ]
  },
  {
   "cell_type": "markdown",
   "id": "8e2afcd2",
   "metadata": {},
   "source": [
    "#### 6. What are the values of the given expressions?"
   ]
  },
  {
   "cell_type": "markdown",
   "id": "32af0f48",
   "metadata": {},
   "source": [
    "`\"Hello, world!\"[1]\n",
    "\"Hello, world!\"[0:5]\n",
    "\"Hello, world!\"[:5]\n",
    "\"Hello, world!\"[3:]`"
   ]
  },
  {
   "cell_type": "code",
   "execution_count": 90,
   "id": "8a81e54c",
   "metadata": {},
   "outputs": [
    {
     "data": {
      "text/plain": [
       "'e'"
      ]
     },
     "execution_count": 90,
     "metadata": {},
     "output_type": "execute_result"
    }
   ],
   "source": [
    "\"Hello, World!\"[1]"
   ]
  },
  {
   "cell_type": "code",
   "execution_count": 91,
   "id": "7a8a1737",
   "metadata": {},
   "outputs": [
    {
     "data": {
      "text/plain": [
       "'Hello'"
      ]
     },
     "execution_count": 91,
     "metadata": {},
     "output_type": "execute_result"
    }
   ],
   "source": [
    "\"Hello, world!\"[0:5]"
   ]
  },
  {
   "cell_type": "code",
   "execution_count": 92,
   "id": "81c04d7d",
   "metadata": {},
   "outputs": [
    {
     "data": {
      "text/plain": [
       "'Hello'"
      ]
     },
     "execution_count": 92,
     "metadata": {},
     "output_type": "execute_result"
    }
   ],
   "source": [
    "\"Hello, world!\"[:5]"
   ]
  },
  {
   "cell_type": "code",
   "execution_count": 93,
   "id": "3fda4f9e",
   "metadata": {},
   "outputs": [
    {
     "data": {
      "text/plain": [
       "'lo, world!'"
      ]
     },
     "execution_count": 93,
     "metadata": {},
     "output_type": "execute_result"
    }
   ],
   "source": [
    "\"Hello, world!\"[3:]"
   ]
  },
  {
   "cell_type": "markdown",
   "id": "0cba74e9",
   "metadata": {},
   "source": [
    "#### 7. What are the values of the following expressions?"
   ]
  },
  {
   "cell_type": "markdown",
   "id": "5e95e23c",
   "metadata": {},
   "source": [
    "`'Hello'.upper()\n",
    "'Hello'.upper().isupper()\n",
    "'Hello'.upper().lower()`"
   ]
  },
  {
   "cell_type": "code",
   "execution_count": 94,
   "id": "d097728b",
   "metadata": {},
   "outputs": [
    {
     "data": {
      "text/plain": [
       "'HELLO'"
      ]
     },
     "execution_count": 94,
     "metadata": {},
     "output_type": "execute_result"
    }
   ],
   "source": [
    "'Hello'.upper()"
   ]
  },
  {
   "cell_type": "code",
   "execution_count": 95,
   "id": "6e7a9846",
   "metadata": {},
   "outputs": [
    {
     "data": {
      "text/plain": [
       "True"
      ]
     },
     "execution_count": 95,
     "metadata": {},
     "output_type": "execute_result"
    }
   ],
   "source": [
    "'Hello'.upper().isupper()"
   ]
  },
  {
   "cell_type": "code",
   "execution_count": 96,
   "id": "373039fd",
   "metadata": {},
   "outputs": [
    {
     "data": {
      "text/plain": [
       "'hello'"
      ]
     },
     "execution_count": 96,
     "metadata": {},
     "output_type": "execute_result"
    }
   ],
   "source": [
    "'Hello'.upper().lower()"
   ]
  },
  {
   "cell_type": "markdown",
   "id": "f85be36d",
   "metadata": {},
   "source": [
    "#### 8. What are the values of the following expressions?"
   ]
  },
  {
   "cell_type": "markdown",
   "id": "6c0d62a8",
   "metadata": {},
   "source": [
    "`'Remember, remember, the fifth of july'.split()\n",
    "'-'.join('There can only one.'.split()`"
   ]
  },
  {
   "cell_type": "code",
   "execution_count": 99,
   "id": "de94a4b6",
   "metadata": {},
   "outputs": [
    {
     "name": "stdout",
     "output_type": "stream",
     "text": [
      "['Remember,', 'remember,', 'the', 'fifth', 'of', 'july']\n",
      "There-can-only-one.\n"
     ]
    }
   ],
   "source": [
    "print('Remember, remember, the fifth of july'.split())\n",
    "print('-'.join('There can only one.'.split()))"
   ]
  },
  {
   "cell_type": "markdown",
   "id": "6a1338ab",
   "metadata": {},
   "source": [
    "#### 9. What are the methods for right-justifying, left-justifying, and centering a string?"
   ]
  },
  {
   "cell_type": "markdown",
   "id": "f97516c1",
   "metadata": {},
   "source": [
    "`The rjust(), ljust(), and center() string methods, respectively`"
   ]
  },
  {
   "cell_type": "code",
   "execution_count": 109,
   "id": "84c88083",
   "metadata": {},
   "outputs": [
    {
     "data": {
      "text/plain": [
       "'@@@@@@@@@@@@meghamsh'"
      ]
     },
     "execution_count": 109,
     "metadata": {},
     "output_type": "execute_result"
    }
   ],
   "source": [
    "a=\"meghamsh\"\n",
    "a.rjust(20,\"@\")"
   ]
  },
  {
   "cell_type": "code",
   "execution_count": 110,
   "id": "68baf205",
   "metadata": {},
   "outputs": [
    {
     "data": {
      "text/plain": [
       "'meghamsh@@@@@@@@@@@@'"
      ]
     },
     "execution_count": 110,
     "metadata": {},
     "output_type": "execute_result"
    }
   ],
   "source": [
    "a=\"meghamsh\"\n",
    "a.ljust(20,\"@\")"
   ]
  },
  {
   "cell_type": "code",
   "execution_count": 111,
   "id": "7e491927",
   "metadata": {},
   "outputs": [
    {
     "data": {
      "text/plain": [
       "'@@@@@@meghamsh@@@@@@'"
      ]
     },
     "execution_count": 111,
     "metadata": {},
     "output_type": "execute_result"
    }
   ],
   "source": [
    "a=\"meghamsh\"\n",
    "a.center(20,\"@\")"
   ]
  },
  {
   "cell_type": "markdown",
   "id": "6f3f5fed",
   "metadata": {},
   "source": [
    "#### 10. What is the best way to remove whitespace characters from the start or end?"
   ]
  },
  {
   "cell_type": "markdown",
   "id": "c7faab21",
   "metadata": {},
   "source": [
    "` by using the strip method we can remove white spaces both ends and by using rstrip,lstrip to remove white spaces right and left side respectively`"
   ]
  },
  {
   "cell_type": "code",
   "execution_count": 113,
   "id": "2f8cc599",
   "metadata": {},
   "outputs": [
    {
     "data": {
      "text/plain": [
       "'meghamsh'"
      ]
     },
     "execution_count": 113,
     "metadata": {},
     "output_type": "execute_result"
    }
   ],
   "source": [
    "a=\"    meghamsh    \"\n",
    "a.strip()"
   ]
  },
  {
   "cell_type": "code",
   "execution_count": 114,
   "id": "06f78b4e",
   "metadata": {},
   "outputs": [
    {
     "data": {
      "text/plain": [
       "'    meghamsh'"
      ]
     },
     "execution_count": 114,
     "metadata": {},
     "output_type": "execute_result"
    }
   ],
   "source": [
    "a=\"    meghamsh    \"\n",
    "a.rstrip()"
   ]
  },
  {
   "cell_type": "code",
   "execution_count": 115,
   "id": "ef47a98f",
   "metadata": {},
   "outputs": [
    {
     "data": {
      "text/plain": [
       "'meghamsh    '"
      ]
     },
     "execution_count": 115,
     "metadata": {},
     "output_type": "execute_result"
    }
   ],
   "source": [
    "a=\"    meghamsh    \"\n",
    "a.lstrip()"
   ]
  }
 ],
 "metadata": {
  "kernelspec": {
   "display_name": "Python 3",
   "language": "python",
   "name": "python3"
  },
  "language_info": {
   "codemirror_mode": {
    "name": "ipython",
    "version": 3
   },
   "file_extension": ".py",
   "mimetype": "text/x-python",
   "name": "python",
   "nbconvert_exporter": "python",
   "pygments_lexer": "ipython3",
   "version": "3.8.8"
  }
 },
 "nbformat": 4,
 "nbformat_minor": 5
}
